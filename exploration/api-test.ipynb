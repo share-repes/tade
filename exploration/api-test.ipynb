{
 "cells": [
  {
   "cell_type": "code",
   "execution_count": 2,
   "id": "c282e07e",
   "metadata": {},
   "outputs": [],
   "source": [
    "import requests \n",
    "import pandas as pd \n",
    "import json\n",
    "from dateutil import parser"
   ]
  },
  {
   "cell_type": "code",
   "execution_count": 3,
   "id": "960d6331",
   "metadata": {},
   "outputs": [],
   "source": [
    "API_KEY = \"c41c5f98704c8106dabb4483fef2932e-75e8bd9303e1044e1368557f7ac8114a\"\n",
    "ACCOUNT_ID = \"101-012-24490475-001\"\n",
    "OANDA_URL = \"https://api-fxpractice.oanda.com/v3\""
   ]
  },
  {
   "cell_type": "code",
   "execution_count": 4,
   "id": "3096e094",
   "metadata": {},
   "outputs": [],
   "source": [
    "session = requests.Session()"
   ]
  },
  {
   "cell_type": "code",
   "execution_count": 5,
   "id": "753d2662",
   "metadata": {},
   "outputs": [],
   "source": [
    "session.headers.update({\n",
    "    \"Authorization\": f\"Bearer {API_KEY}\",\n",
    "    \"Content-Type\": \"application/json\"\n",
    "})"
   ]
  },
  {
   "cell_type": "code",
   "execution_count": 6,
   "id": "f42497c0",
   "metadata": {},
   "outputs": [],
   "source": [
    "params = dict(\n",
    "    count=10,\n",
    "    granularity= \"D\",\n",
    "    price = \"MBA\"\n",
    ")"
   ]
  },
  {
   "cell_type": "code",
   "execution_count": 7,
   "id": "500982f6",
   "metadata": {},
   "outputs": [],
   "source": [
    "url = f\"{OANDA_URL}/accounts/{ACCOUNT_ID}/instruments\""
   ]
  },
  {
   "cell_type": "code",
   "execution_count": 8,
   "id": "dc6b4ef8",
   "metadata": {},
   "outputs": [],
   "source": [
    "response = session.get(url, params=params, data=None, headers=None) "
   ]
  },
  {
   "cell_type": "code",
   "execution_count": 9,
   "id": "47bfc697",
   "metadata": {},
   "outputs": [
    {
     "data": {
      "text/plain": [
       "200"
      ]
     },
     "execution_count": 9,
     "metadata": {},
     "output_type": "execute_result"
    }
   ],
   "source": [
    "response.status_code"
   ]
  },
  {
   "cell_type": "code",
   "execution_count": 10,
   "id": "69caa494",
   "metadata": {},
   "outputs": [],
   "source": [
    "data = response.json()"
   ]
  },
  {
   "cell_type": "code",
   "execution_count": 11,
   "id": "9ac9163f",
   "metadata": {
    "scrolled": true
   },
   "outputs": [],
   "source": [
    "instruments_list = data['instruments']\n"
   ]
  },
  {
   "cell_type": "code",
   "execution_count": 12,
   "id": "cb70f2cb",
   "metadata": {},
   "outputs": [
    {
     "data": {
      "text/plain": [
       "128"
      ]
     },
     "execution_count": 12,
     "metadata": {},
     "output_type": "execute_result"
    }
   ],
   "source": [
    "len(instruments_list)\n"
   ]
  },
  {
   "cell_type": "code",
   "execution_count": 13,
   "id": "4b658953",
   "metadata": {},
   "outputs": [
    {
     "data": {
      "text/plain": [
       "dict_keys(['name', 'type', 'displayName', 'pipLocation', 'displayPrecision', 'tradeUnitsPrecision', 'minimumTradeSize', 'maximumTrailingStopDistance', 'minimumTrailingStopDistance', 'maximumPositionSize', 'maximumOrderUnits', 'marginRate', 'guaranteedStopLossOrderMode', 'minimumGuaranteedStopLossDistance', 'guaranteedStopLossOrderExecutionPremium', 'guaranteedStopLossOrderLevelRestriction', 'tags', 'financing'])"
      ]
     },
     "execution_count": 13,
     "metadata": {},
     "output_type": "execute_result"
    }
   ],
   "source": [
    "instruments_list[0].keys()"
   ]
  },
  {
   "cell_type": "code",
   "execution_count": 14,
   "id": "518e8356",
   "metadata": {},
   "outputs": [],
   "source": [
    "key_i=['name', 'type', 'displayName', 'pipLocation', 'displayPrecision', 'tradeUnitsPrecision','marginRate' ]"
   ]
  },
  {
   "cell_type": "code",
   "execution_count": 15,
   "id": "72df0007",
   "metadata": {},
   "outputs": [],
   "source": [
    "instruments_dict = {}\n",
    "for i in instruments_list:\n",
    "    key = i['name']\n",
    "    instruments_dict[key] = {k:i[k] for k in key_i}"
   ]
  },
  {
   "cell_type": "code",
   "execution_count": 16,
   "id": "c12f0b62",
   "metadata": {},
   "outputs": [
    {
     "data": {
      "text/plain": [
       "{'name': 'EUR_USD',\n",
       " 'type': 'CURRENCY',\n",
       " 'displayName': 'EUR/USD',\n",
       " 'pipLocation': -4,\n",
       " 'displayPrecision': 5,\n",
       " 'tradeUnitsPrecision': 0,\n",
       " 'marginRate': '0.0333'}"
      ]
     },
     "execution_count": 16,
     "metadata": {},
     "output_type": "execute_result"
    }
   ],
   "source": [
    "instruments_dict['EUR_USD']"
   ]
  },
  {
   "cell_type": "code",
   "execution_count": 17,
   "id": "d532a988",
   "metadata": {},
   "outputs": [],
   "source": [
    "with open(\"../data/instruments.json\" , \"w\")as f:\n",
    "    f.write(json.dumps(instruments_dict, indent=2))"
   ]
  },
  {
   "cell_type": "code",
   "execution_count": 18,
   "id": "9ec21b66",
   "metadata": {},
   "outputs": [],
   "source": [
    "def fetch_candles(pair_name, count=10,granularity=\"H1\"):\n",
    "    url = f\"{OANDA_URL}/instruments/{pair_name}/candles\"\n",
    "    params = dict(\n",
    "    count= count,\n",
    "    granularity= granularity,\n",
    "    price = \"MBA\"\n",
    "    )\n",
    "    response = session.get(url, params=params, data=None, headers=None) \n",
    "    data =response.json()\n",
    "\n",
    "    if response.status_code == 200:\n",
    "        if 'candles'not in data:\n",
    "            data=[]\n",
    "        else:\n",
    "            data = data['candles']\n",
    "        return response.status_code, data   \n",
    "    \n",
    "def get_candles_df(data):\n",
    "    if len(data)== 0:\n",
    "        return pd.DataFram()\n",
    "    \n",
    "    prices= ['mid', 'bid', 'ask']\n",
    "    ohlc= ['o','h','l','c']\n",
    "\n",
    "    final_data =[]\n",
    "    for candle in data:\n",
    "        if candle['complete'] == False:\n",
    "            continue\n",
    "        new_dict = {}\n",
    "        new_dict['time'] = parser.parse(candle['time'])\n",
    "        new_dict['volume'] = candle['volume']\n",
    "        for p in prices :\n",
    "            for o in ohlc:\n",
    "                new_dict[f\"{p}_{o}\"] = float(candle[p][o])\n",
    "            \n",
    "        final_data.append(new_dict)\n",
    "    df = pd.DataFrame.from_dict(final_data)   \n",
    "    return df\n",
    "    \n",
    "def create_data_file(pair_name, count=10,granularity=\"H1\"):\n",
    "    code, data =fetch_candles(pair_name ,count, granularity)\n",
    "    if code != 200:\n",
    "        print(\"Failed\",pair_name,data)  \n",
    "        return                       \n",
    "    if len(data)== 0:\n",
    "          print(\"No candles\",pair_name)  \n",
    "             \n",
    "    candles_df  = get_candles_df(data)  \n",
    "    candles_df.to_pickle(f\"../data/{pair_name}_{granularity}.pkl\") \n",
    "    print(f\"{pair_name} {granularity}{candles_df.shape[0]} candles, {candles_df.time.min()} {candles_df.time.max()}\")                         \n",
    "                              \n",
    "    "
   ]
  },
  {
   "cell_type": "code",
   "execution_count": 19,
   "id": "9994a255",
   "metadata": {},
   "outputs": [],
   "source": [
    "code, data =fetch_candles(\"EUR_USD\" ,count=10, granularity=\"H4\")\n",
    "candles_df = get_candles_df(data)"
   ]
  },
  {
   "cell_type": "code",
   "execution_count": 20,
   "id": "0c059394",
   "metadata": {},
   "outputs": [
    {
     "name": "stdout",
     "output_type": "stream",
     "text": [
      "EUR_USD H49 candles, 2023-01-22 22:00:00+00:00 2023-01-24 06:00:00+00:00\n"
     ]
    }
   ],
   "source": [
    "create_data_file(\"EUR_USD\" ,count=10, granularity=\"H1\")\n"
   ]
  },
  {
   "cell_type": "code",
   "execution_count": 22,
   "id": "3d258a7e",
   "metadata": {},
   "outputs": [
    {
     "data": {
      "text/plain": [
       "[{'complete': True,\n",
       "  'volume': 11607,\n",
       "  'time': '2023-01-22T22:00:00.000000000Z',\n",
       "  'bid': {'o': '1.08623', 'h': '1.08989', 'l': '1.08599', 'c': '1.08941'},\n",
       "  'mid': {'o': '1.08650', 'h': '1.08998', 'l': '1.08617', 'c': '1.08948'},\n",
       "  'ask': {'o': '1.08676', 'h': '1.09008', 'l': '1.08630', 'c': '1.08956'}},\n",
       " {'complete': True,\n",
       "  'volume': 9596,\n",
       "  'time': '2023-01-23T02:00:00.000000000Z',\n",
       "  'bid': {'o': '1.08938', 'h': '1.09025', 'l': '1.08883', 'c': '1.08915'},\n",
       "  'mid': {'o': '1.08946', 'h': '1.09033', 'l': '1.08892', 'c': '1.08923'},\n",
       "  'ask': {'o': '1.08955', 'h': '1.09041', 'l': '1.08900', 'c': '1.08931'}},\n",
       " {'complete': True,\n",
       "  'volume': 22966,\n",
       "  'time': '2023-01-23T06:00:00.000000000Z',\n",
       "  'bid': {'o': '1.08915', 'h': '1.09261', 'l': '1.08863', 'c': '1.09110'},\n",
       "  'mid': {'o': '1.08922', 'h': '1.09270', 'l': '1.08872', 'c': '1.09118'},\n",
       "  'ask': {'o': '1.08930', 'h': '1.09280', 'l': '1.08881', 'c': '1.09125'}},\n",
       " {'complete': True,\n",
       "  'volume': 26392,\n",
       "  'time': '2023-01-23T10:00:00.000000000Z',\n",
       "  'bid': {'o': '1.09111', 'h': '1.09148', 'l': '1.08524', 'c': '1.08582'},\n",
       "  'mid': {'o': '1.09118', 'h': '1.09155', 'l': '1.08532', 'c': '1.08590'},\n",
       "  'ask': {'o': '1.09124', 'h': '1.09163', 'l': '1.08540', 'c': '1.08598'}},\n",
       " {'complete': True,\n",
       "  'volume': 34337,\n",
       "  'time': '2023-01-23T14:00:00.000000000Z',\n",
       "  'bid': {'o': '1.08579', 'h': '1.08752', 'l': '1.08454', 'c': '1.08619'},\n",
       "  'mid': {'o': '1.08587', 'h': '1.08760', 'l': '1.08462', 'c': '1.08626'},\n",
       "  'ask': {'o': '1.08595', 'h': '1.08767', 'l': '1.08471', 'c': '1.08632'}},\n",
       " {'complete': True,\n",
       "  'volume': 15731,\n",
       "  'time': '2023-01-23T18:00:00.000000000Z',\n",
       "  'bid': {'o': '1.08620', 'h': '1.08724', 'l': '1.08467', 'c': '1.08709'},\n",
       "  'mid': {'o': '1.08626', 'h': '1.08732', 'l': '1.08475', 'c': '1.08718'},\n",
       "  'ask': {'o': '1.08633', 'h': '1.08740', 'l': '1.08483', 'c': '1.08728'}},\n",
       " {'complete': True,\n",
       "  'volume': 6898,\n",
       "  'time': '2023-01-23T22:00:00.000000000Z',\n",
       "  'bid': {'o': '1.08702', 'h': '1.08819', 'l': '1.08669', 'c': '1.08802'},\n",
       "  'mid': {'o': '1.08718', 'h': '1.08827', 'l': '1.08678', 'c': '1.08810'},\n",
       "  'ask': {'o': '1.08734', 'h': '1.08835', 'l': '1.08685', 'c': '1.08817'}},\n",
       " {'complete': True,\n",
       "  'volume': 6767,\n",
       "  'time': '2023-01-24T02:00:00.000000000Z',\n",
       "  'bid': {'o': '1.08804', 'h': '1.08823', 'l': '1.08687', 'c': '1.08775'},\n",
       "  'mid': {'o': '1.08811', 'h': '1.08830', 'l': '1.08694', 'c': '1.08782'},\n",
       "  'ask': {'o': '1.08818', 'h': '1.08839', 'l': '1.08701', 'c': '1.08790'}},\n",
       " {'complete': True,\n",
       "  'volume': 21014,\n",
       "  'time': '2023-01-24T06:00:00.000000000Z',\n",
       "  'bid': {'o': '1.08776', 'h': '1.08973', 'l': '1.08513', 'c': '1.08603'},\n",
       "  'mid': {'o': '1.08784', 'h': '1.08981', 'l': '1.08520', 'c': '1.08610'},\n",
       "  'ask': {'o': '1.08792', 'h': '1.08989', 'l': '1.08527', 'c': '1.08616'}},\n",
       " {'complete': False,\n",
       "  'volume': 9273,\n",
       "  'time': '2023-01-24T10:00:00.000000000Z',\n",
       "  'bid': {'o': '1.08599', 'h': '1.08752', 'l': '1.08513', 'c': '1.08741'},\n",
       "  'mid': {'o': '1.08606', 'h': '1.08760', 'l': '1.08521', 'c': '1.08749'},\n",
       "  'ask': {'o': '1.08614', 'h': '1.08767', 'l': '1.08528', 'c': '1.08757'}}]"
      ]
     },
     "execution_count": 22,
     "metadata": {},
     "output_type": "execute_result"
    }
   ],
   "source": [
    "data"
   ]
  },
  {
   "cell_type": "code",
   "execution_count": null,
   "id": "3db9f2f8",
   "metadata": {},
   "outputs": [],
   "source": []
  },
  {
   "cell_type": "code",
   "execution_count": null,
   "id": "b5f57e0c",
   "metadata": {},
   "outputs": [],
   "source": []
  },
  {
   "cell_type": "code",
   "execution_count": null,
   "id": "d3cd1835",
   "metadata": {},
   "outputs": [],
   "source": []
  },
  {
   "cell_type": "code",
   "execution_count": null,
   "id": "5f963be7",
   "metadata": {},
   "outputs": [],
   "source": []
  },
  {
   "cell_type": "code",
   "execution_count": null,
   "id": "ba86ba4d",
   "metadata": {},
   "outputs": [],
   "source": []
  },
  {
   "cell_type": "code",
   "execution_count": null,
   "id": "067b46a8",
   "metadata": {},
   "outputs": [],
   "source": []
  },
  {
   "cell_type": "code",
   "execution_count": null,
   "id": "ebd398d2",
   "metadata": {},
   "outputs": [],
   "source": []
  },
  {
   "cell_type": "code",
   "execution_count": null,
   "id": "712724cc",
   "metadata": {},
   "outputs": [],
   "source": []
  }
 ],
 "metadata": {
  "kernelspec": {
   "display_name": "Python 3 (ipykernel)",
   "language": "python",
   "name": "python3"
  },
  "language_info": {
   "codemirror_mode": {
    "name": "ipython",
    "version": 3
   },
   "file_extension": ".py",
   "mimetype": "text/x-python",
   "name": "python",
   "nbconvert_exporter": "python",
   "pygments_lexer": "ipython3",
   "version": "3.10.9"
  }
 },
 "nbformat": 4,
 "nbformat_minor": 5
}
